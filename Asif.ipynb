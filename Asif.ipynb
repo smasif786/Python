{
 "cells": [
  {
   "cell_type": "code",
   "execution_count": null,
   "metadata": {},
   "outputs": [],
   "source": [
    "#happy number\n",
    "class Solution:\n",
    "    def Happy(Self,n):\n",
    "        lookup={}\n",
    "        while n!=1 and n not in lookup:\n",
    "            lookup[n] =True\n",
    "            n=self.nextNumber(n)\n",
    "    num=input(\"Enter a value: \")\n",
    "           return n==1\n",
    "    def nextNumber(self,n):\n",
    "        new=0\n",
    "        for char in str(n):\n",
    "            new+=int(char)**2\n",
    "            return new\n",
    "    num=input(\"Enter a value: \")"
   ]
  },
  {
   "cell_type": "code",
   "execution_count": null,
   "metadata": {},
   "outputs": [],
   "source": [
    "#prog to print all prime in a given range\n",
    "lower=int(input(\"Enter a lower rnge: \"))\n",
    "upper=int(input(\"Enter a upper range: \"))\n",
    "for num in range(lower,upper+1):\n",
    "    if num>1:\n",
    "        for i in range(2,num):\n",
    "            if(num%i)==0:\n",
    "                break\n",
    "            else:\n",
    "                print(num)"
   ]
  },
  {
   "cell_type": "code",
   "execution_count": null,
   "metadata": {},
   "outputs": [],
   "source": [
    "#adding two matrices\n",
    "x=[[2,4,1,5],[5,4,6,8], [2,3,7,5]]\n",
    "y=[[2,4,1,5],[5,4,6,8],[4,5,2,1]]\n",
    "result=[[0,0,0,0],[0,0,0,0],[0,0,0,0]\n",
    "        for i in range(len(x):\n",
    "        for j in range(len(0):\n",
    "        result[i][j]=x[i][j]+y[i][j]\n",
    "for r in result:\n",
    "          print(r)"
   ]
  },
  {
   "cell_type": "code",
   "execution_count": 4,
   "metadata": {},
   "outputs": [
    {
     "name": "stdout",
     "output_type": "stream",
     "text": [
      "invalid\n"
     ]
    }
   ],
   "source": [
    "import re\n",
    "def emailvalidation(email):\n",
    "    pattern='^[0-9a-z_.][{5,10}[@][a-z0-9]{3,10}[.][a-z]{1,4}$'\n",
    "    if re.match(pattern,email):\n",
    "        print('valid')\n",
    "    else:\n",
    "        print(\"invalid\")\n",
    "#     n=int(input(\"Enter number of mails to create\"))\n",
    "#     for i in range(0,n):\n",
    "#         email=input(\"enter mail id\")\n",
    "emailvalidation('asifggthrytuky@gmail.com')"
   ]
  },
  {
   "cell_type": "code",
   "execution_count": 5,
   "metadata": {},
   "outputs": [
    {
     "name": "stdout",
     "output_type": "stream",
     "text": [
      "factorial of input, 720\n"
     ]
    }
   ],
   "source": [
    "def recursion(n):\n",
    "    if n == 0:\n",
    "        return 1\n",
    "    else:\n",
    "        return n*recursion(n-1)\n",
    "print('factorial of input,',recursion(6))"
   ]
  },
  {
   "cell_type": "code",
   "execution_count": null,
   "metadata": {},
   "outputs": [],
   "source": [
    "n=int(input(\"Enter number:\"))\n",
    "temp=n\n",
    "rev=0\n",
    "while(n>0):\n",
    "    dig=n%10\n",
    "    rev=rev*10+dig\n",
    "    n=n//10\n",
    "if(temp==rev):\n",
    "    print(\"The number is a palindrome\")\n",
    "else:\n",
    "    print(\"The number isn't a palindrom\")"
   ]
  },
  {
   "cell_type": "code",
   "execution_count": null,
   "metadata": {},
   "outputs": [],
   "source": [
    "x=float(input(\"Enter the ist side of triangle:\"))\n",
    "y=float(input(\"Enter the 2nd side of triangle:\"))\n",
    "z=float(input(\"Enter the 3rd side of triangle:\"))\n",
    "s=(x+y+z)/2\n",
    "Area=(s*(s-x)*(s-y)*(s-z))\n",
    "print(Area)"
   ]
  },
  {
   "cell_type": "code",
   "execution_count": null,
   "metadata": {},
   "outputs": [],
   "source": []
  }
 ],
 "metadata": {
  "kernelspec": {
   "display_name": "Python 3",
   "language": "python",
   "name": "python3"
  },
  "language_info": {
   "codemirror_mode": {
    "name": "ipython",
    "version": 3
   },
   "file_extension": ".py",
   "mimetype": "text/x-python",
   "name": "python",
   "nbconvert_exporter": "python",
   "pygments_lexer": "ipython3",
   "version": "3.7.0"
  }
 },
 "nbformat": 4,
 "nbformat_minor": 2
}
